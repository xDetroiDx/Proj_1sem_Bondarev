{
  "nbformat": 4,
  "nbformat_minor": 0,
  "metadata": {
    "colab": {
      "name": "Untitled0.ipynb",
      "provenance": [],
      "authorship_tag": "ABX9TyMqVrBEbyXrfmdU+24EBHBK",
      "include_colab_link": true
    },
    "kernelspec": {
      "name": "python3",
      "display_name": "Python 3"
    },
    "language_info": {
      "name": "python"
    }
  },
  "cells": [
    {
      "cell_type": "markdown",
      "metadata": {
        "id": "view-in-github",
        "colab_type": "text"
      },
      "source": [
        "<a href=\"https://colab.research.google.com/github/xDetroiDx/Proj_1sem_Bondarev/blob/master/Untitled0.ipynb\" target=\"_parent\"><img src=\"https://colab.research.google.com/assets/colab-badge.svg\" alt=\"Open In Colab\"/></a>"
      ]
    },
    {
      "cell_type": "code",
      "execution_count": 1,
      "metadata": {
        "colab": {
          "base_uri": "https://localhost:8080/"
        },
        "id": "yRcMja7B5_Ly",
        "outputId": "2a569c09-af19-4827-8c72-72520530e359"
      },
      "outputs": [
        {
          "output_type": "stream",
          "name": "stdout",
          "text": [
            "Введите первое число: 2\n",
            "Введите второе число: 3\n",
            "Выссказывание истинно\n"
          ]
        }
      ],
      "source": [
        "# Даны два целых числа: A, B.\n",
        "# Проверить истинность высказывания:\n",
        "# «Справедливы неравенства A > 0 или B < —2».\n",
        "\n",
        "A, B = input(\"Введите первое число: \"), input(\"Введите второе число: \")  # Ввод переменной\n",
        "\n",
        "while type(A) != int:  # обработка исключений\n",
        "    try:\n",
        "        A = int(A)\n",
        "    except ValueError:\n",
        "        print(\"Неправельно ввели! \")\n",
        "        A = input(\"Введите первое число: \")\n",
        "\n",
        "while type(B) != int:\n",
        "    try:\n",
        "        B = int(B)\n",
        "    except ValueError:\n",
        "        print(\"Неправельно ввели! \")\n",
        "        B = input(\"Введите второе число: \")\n",
        "\n",
        "if A > 0 or B < -2:\n",
        "    print(\"Выссказывание истинно\")\n",
        "else:\n",
        "    print(\"Высказывание ложно\")"
      ]
    }
  ]
}