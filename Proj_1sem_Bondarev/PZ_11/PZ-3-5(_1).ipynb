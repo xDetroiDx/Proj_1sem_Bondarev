{
  "cells": [
    {
      "cell_type": "markdown",
      "metadata": {
        "id": "view-in-github",
        "colab_type": "text"
      },
      "source": [
        "<a href=\"https://colab.research.google.com/github/xDetroiDx/Proj_1sem_Bondarev/blob/master/Proj_1sem_Bondarev/PZ_11/PZ-3-5(_1).ipynb\" target=\"_parent\"><img src=\"https://colab.research.google.com/assets/colab-badge.svg\" alt=\"Open In Colab\"/></a>"
      ]
    },
    {
      "cell_type": "code",
      "source": [
        "# Даны два целых числа: A, B.\n",
        "# Проверить истинность высказывания:\n",
        "# «Справедливы неравенства A > 0 или B < —2».\n",
        "\n",
        "A, B = input(\"Введите первое число: \"), input(\"Введите второе число: \")  # Ввод переменной\n",
        "\n",
        "while type(A) != int:  # обработка исключений\n",
        "    try:\n",
        "        A = int(A)\n",
        "    except ValueError:\n",
        "        print(\"Неправельно ввели! \")\n",
        "        A = input(\"Введите первое число: \")\n",
        "\n",
        "while type(B) != int:\n",
        "    try:\n",
        "        B = int(B)\n",
        "    except ValueError:\n",
        "        print(\"Неправельно ввели! \")\n",
        "        B = input(\"Введите второе число: \")\n",
        "\n",
        "if A > 0 or B < -2:\n",
        "    print(\"Выссказывание истинно\")\n",
        "else:\n",
        "    print(\"Высказывание ложно\")"
      ],
      "metadata": {
        "colab": {
          "base_uri": "https://localhost:8080/"
        },
        "id": "pSSa8nSJBSg8",
        "outputId": "b17ab77d-a848-4644-befb-ee59beab6a0b"
      },
      "execution_count": 1,
      "outputs": [
        {
          "output_type": "stream",
          "name": "stdout",
          "text": [
            "Введите первое число: 2\n",
            "Введите второе число: 3\n",
            "Выссказывание истинно\n"
          ]
        }
      ]
    },
    {
      "cell_type": "code",
      "source": [
        "# Дано вещественное число — цена 1 кг конфет.\n",
        "# Вывести стоимость 1.2, 1.4, ..., 2 кг конфет.\n",
        "\n",
        "D = 0\n",
        "T = float(1.2)\n",
        "A = input(\"Введите цену 1-ого кг : \")  # Ввод переменной\n",
        "\n",
        "while type(A) != float:  # обработка исключений\n",
        "    try:\n",
        "        A = float(A)\n",
        "    except ValueError:\n",
        "        print(\"Неправельно ввели! \")\n",
        "        A = input(\"Введите первое число: \")\n",
        "\n",
        "while T < 2:\n",
        "    D = A * T\n",
        "    print(round(D, 1), \"Цена за\", round(T, 1), \"кг\")\n",
        "    T += 0.2"
      ],
      "metadata": {
        "colab": {
          "base_uri": "https://localhost:8080/"
        },
        "id": "HgdYCWQSBTPW",
        "outputId": "c3d90b75-f6ed-41c1-c025-9c3443441a8a"
      },
      "execution_count": 2,
      "outputs": [
        {
          "output_type": "stream",
          "name": "stdout",
          "text": [
            "Введите цену 1-ого кг : 100\n",
            "120.0 Цена за 1.2 кг\n",
            "140.0 Цена за 1.4 кг\n",
            "160.0 Цена за 1.6 кг\n",
            "180.0 Цена за 1.8 кг\n",
            "200.0 Цена за 2.0 кг\n"
          ]
        }
      ]
    },
    {
      "cell_type": "code",
      "source": [
        "# С помощью функций получить вертикальную и горизонтальную линии.\n",
        "# Линия проводится многократной печатью символа.\n",
        "# Заключить слово в рамку из полученных линий.\n",
        "\n",
        "s = input('Введите слово: ')\n",
        "a = len(s) + 2\n",
        "\n",
        "def ramka(a,b):\n",
        "    r = ('-' * a + '\\n' + '|' + b.center(a-2) + '|' + '\\n' + '-' * a)\n",
        "    return r\n",
        "\n",
        "print(ramka(a,s))"
      ],
      "metadata": {
        "colab": {
          "base_uri": "https://localhost:8080/"
        },
        "id": "2Nud08d8BTUn",
        "outputId": "3de28e0f-b05c-48e9-e8d6-1d139a2a49f6"
      },
      "execution_count": 3,
      "outputs": [
        {
          "output_type": "stream",
          "name": "stdout",
          "text": [
            "Введите слово: Здарова!\n",
            "----------\n",
            "|Здарова!|\n",
            "----------\n"
          ]
        }
      ]
    }
  ],
  "metadata": {
    "colab": {
      "collapsed_sections": [],
      "name": "Добро пожаловать в Colaboratory!",
      "provenance": [],
      "include_colab_link": true
    },
    "kernelspec": {
      "display_name": "Python 3",
      "name": "python3"
    }
  },
  "nbformat": 4,
  "nbformat_minor": 0
}