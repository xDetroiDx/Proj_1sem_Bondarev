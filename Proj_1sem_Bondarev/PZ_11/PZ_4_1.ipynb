{
  "nbformat": 4,
  "nbformat_minor": 0,
  "metadata": {
    "colab": {
      "name": "Untitled0.ipynb",
      "provenance": []
    },
    "kernelspec": {
      "name": "python3",
      "display_name": "Python 3"
    },
    "language_info": {
      "name": "python"
    }
  },
  "cells": [
    {
      "cell_type": "code",
      "source": [
        "# Дано вещественное число — цена 1 кг конфет.\n",
        "# Вывести стоимость 1.2, 1.4, ..., 2 кг конфет.\n",
        "\n",
        "D = 0\n",
        "T = float(1.2)\n",
        "A = input(\"Введите цену 1-ого кг : \")  # Ввод переменной\n",
        "\n",
        "while type(A) != float:  # обработка исключений\n",
        "    try:\n",
        "        A = float(A)\n",
        "    except ValueError:\n",
        "        print(\"Неправельно ввели! \")\n",
        "        A = input(\"Введите первое число: \")\n",
        "\n",
        "while T < 2:\n",
        "    D = A * T\n",
        "    print(round(D, 1), \"Цена за\", round(T, 1), \"кг\")\n",
        "    T += 0.2"
      ],
      "metadata": {
        "colab": {
          "base_uri": "https://localhost:8080/"
        },
        "id": "GNWoBwdj8xGM",
        "outputId": "f28ecc5e-3715-4907-bd69-17505a10aa63"
      },
      "execution_count": 2,
      "outputs": [
        {
          "output_type": "stream",
          "name": "stdout",
          "text": [
            "Введите цену 1-ого кг : 100\n",
            "120.0 Цена за 1.2 кг\n",
            "140.0 Цена за 1.4 кг\n",
            "160.0 Цена за 1.6 кг\n",
            "180.0 Цена за 1.8 кг\n",
            "200.0 Цена за 2.0 кг\n"
          ]
        }
      ]
    }
  ]
}