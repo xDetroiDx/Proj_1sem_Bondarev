{
  "nbformat": 4,
  "nbformat_minor": 0,
  "metadata": {
    "colab": {
      "name": "Untitled0.ipynb",
      "provenance": [],
      "collapsed_sections": []
    },
    "kernelspec": {
      "name": "python3",
      "display_name": "Python 3"
    },
    "language_info": {
      "name": "python"
    }
  },
  "cells": [
    {
      "cell_type": "code",
      "execution_count": null,
      "metadata": {
        "colab": {
          "base_uri": "https://localhost:8080/"
        },
        "id": "yRcMja7B5_Ly",
        "outputId": "2a569c09-af19-4827-8c72-72520530e359"
      },
      "outputs": [
        {
          "output_type": "stream",
          "name": "stdout",
          "text": [
            "Введите первое число: 2\n",
            "Введите второе число: 3\n",
            "Выссказывание истинно\n"
          ]
        }
      ],
      "source": [
        "# Даны два целых числа: A, B.\n",
        "# Проверить истинность высказывания:\n",
        "# «Справедливы неравенства A > 0 или B < —2».\n",
        "\n",
        "A, B = input(\"Введите первое число: \"), input(\"Введите второе число: \")  # Ввод переменной\n",
        "\n",
        "while type(A) != int:  # обработка исключений\n",
        "    try:\n",
        "        A = int(A)\n",
        "    except ValueError:\n",
        "        print(\"Неправельно ввели! \")\n",
        "        A = input(\"Введите первое число: \")\n",
        "\n",
        "while type(B) != int:\n",
        "    try:\n",
        "        B = int(B)\n",
        "    except ValueError:\n",
        "        print(\"Неправельно ввели! \")\n",
        "        B = input(\"Введите второе число: \")\n",
        "\n",
        "if A > 0 or B < -2:\n",
        "    print(\"Выссказывание истинно\")\n",
        "else:\n",
        "    print(\"Высказывание ложно\")"
      ]
    }
  ]
}