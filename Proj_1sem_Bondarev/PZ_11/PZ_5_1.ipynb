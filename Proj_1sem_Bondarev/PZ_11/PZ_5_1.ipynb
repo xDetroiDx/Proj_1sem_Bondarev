{
  "nbformat": 4,
  "nbformat_minor": 0,
  "metadata": {
    "colab": {
      "name": "Untitled0.ipynb",
      "provenance": []
    },
    "kernelspec": {
      "name": "python3",
      "display_name": "Python 3"
    },
    "language_info": {
      "name": "python"
    }
  },
  "cells": [
    {
      "cell_type": "code",
      "source": [
        "# С помощью функций получить вертикальную и горизонтальную линии.\n",
        "# Линия проводится многократной печатью символа.\n",
        "# Заключить слово в рамку из полученных линий.\n",
        "\n",
        "s = input('Введите слово: ')\n",
        "a = len(s) + 2\n",
        "\n",
        "def ramka(a,b):\n",
        "    r = ('-' * a + '\\n' + '|' + b.center(a-2) + '|' + '\\n' + '-' * a)\n",
        "    return r\n",
        "\n",
        "print(ramka(a,s))"
      ],
      "metadata": {
        "colab": {
          "base_uri": "https://localhost:8080/"
        },
        "id": "p1qZka3e9Kxb",
        "outputId": "e17937fa-8a7c-43cb-b831-9e613ca6c4e4"
      },
      "execution_count": 3,
      "outputs": [
        {
          "output_type": "stream",
          "name": "stdout",
          "text": [
            "Введите слово: Здарова!\n",
            "----------\n",
            "|Здарова!|\n",
            "----------\n"
          ]
        }
      ]
    }
  ]
}